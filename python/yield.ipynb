{
 "cells": [
  {
   "cell_type": "code",
   "execution_count": 1,
   "metadata": {},
   "outputs": [],
   "source": [
    "def combine_a(lst, n):\n",
    "    # rest = lst.copy()\n",
    "    result = []\n",
    "\n",
    "    if n == 1:\n",
    "        return lst\n",
    "\n",
    "    for i in range(len(lst)):\n",
    "        prefix = lst[i]\n",
    "        rest = lst[i + 1:]\n",
    "        # rest.remove(prefix)\n",
    "        recursive = combine_a(rest, n - 1)\n",
    "        tmp = [str(prefix) + str(obj) for obj in recursive]\n",
    "        result.extend(tmp)\n",
    "\n",
    "    return result"
   ]
  },
  {
   "cell_type": "code",
   "execution_count": 2,
   "metadata": {},
   "outputs": [],
   "source": [
    "def combine_b(lst, n, idx=0, prefix=\"\"):\n",
    "    if n == 0:\n",
    "        yield prefix\n",
    "        return\n",
    "    for i in range(idx, len(lst)):\n",
    "        yield from combine_b(lst, n - 1, i + 1, prefix + str(lst[i]))"
   ]
  },
  {
   "cell_type": "code",
   "execution_count": 3,
   "metadata": {},
   "outputs": [
    {
     "name": "stdout",
     "output_type": "stream",
     "text": [
      "[combine_a] time: 0.849 sec, peak_memory: 9.74 MB\n",
      "[combine_b] time: 0.684 sec, peak_memory: 9.82 MB\n"
     ]
    }
   ],
   "source": [
    "import time\n",
    "import tracemalloc\n",
    "\n",
    "\n",
    "foo = list(range(100))\n",
    "\n",
    "tracemalloc.start()\n",
    "start = time.time()\n",
    "var = combine_a(foo, 3)\n",
    "end = time.time()\n",
    "current, peak = tracemalloc.get_traced_memory()\n",
    "print(f\"[combine_a] time: {end - start:.3f} sec, peak_memory: {peak / 1024 / 1024:.2f} MB\")\n",
    "tracemalloc.stop()\n",
    "\n",
    "tracemalloc.start()\n",
    "start = time.time()\n",
    "var = list(combine_b(foo, 3))\n",
    "end = time.time()\n",
    "current, peak = tracemalloc.get_traced_memory()\n",
    "print(f\"[combine_b] time: {end - start:.3f} sec, peak_memory: {peak / 1024 / 1024:.2f} MB\")\n",
    "tracemalloc.stop()"
   ]
  },
  {
   "cell_type": "code",
   "execution_count": null,
   "metadata": {},
   "outputs": [],
   "source": []
  }
 ],
 "metadata": {
  "kernelspec": {
   "display_name": "Python 3 (ipykernel)",
   "language": "python",
   "name": "python3"
  },
  "language_info": {
   "codemirror_mode": {
    "name": "ipython",
    "version": 3
   },
   "file_extension": ".py",
   "mimetype": "text/x-python",
   "name": "python",
   "nbconvert_exporter": "python",
   "pygments_lexer": "ipython3",
   "version": "3.11.0"
  }
 },
 "nbformat": 4,
 "nbformat_minor": 4
}
